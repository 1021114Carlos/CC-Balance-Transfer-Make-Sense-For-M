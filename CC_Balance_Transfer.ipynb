{
  "nbformat": 4,
  "nbformat_minor": 0,
  "metadata": {
    "colab": {
      "private_outputs": true,
      "provenance": [],
      "authorship_tag": "ABX9TyO/n8BVxbOCvpxt5w2f9bG6",
      "include_colab_link": true
    },
    "kernelspec": {
      "name": "python3",
      "display_name": "Python 3"
    },
    "language_info": {
      "name": "python"
    }
  },
  "cells": [
    {
      "cell_type": "markdown",
      "metadata": {
        "id": "view-in-github",
        "colab_type": "text"
      },
      "source": [
        "<a href=\"https://colab.research.google.com/github/1021114Carlos/CC-Balance-Transfer-Make-Sense-For-Me/blob/analytical-backroom/CC_Balance_Transfer.ipynb\" target=\"_parent\"><img src=\"https://colab.research.google.com/assets/colab-badge.svg\" alt=\"Open In Colab\"/></a>"
      ]
    },
    {
      "cell_type": "markdown",
      "source": [
        "_Credit Card Balance transfer Strategy_\n",
        "\n",
        "*Strategia De Trasferencia de Balance De Targeta de Credito*"
      ],
      "metadata": {
        "id": "JAAtSYglT3lC"
      }
    },
    {
      "cell_type": "code",
      "source": [
        "import matplotlib.pyplot as plt\n",
        "\n",
        "def calculate_balance_transfer(principal, transfer_rate, current_rate, transfer_duration_months):\n",
        "    # Calculate total interest for the new card\n",
        "    transfer_interest = principal * (transfer_rate / 100)\n",
        "\n",
        "    # Calculate total interest for the current card over the same duration\n",
        "    current_interest = principal * (current_rate / 100) * (transfer_duration_months / 12)\n",
        "\n",
        "    transfer_total_cost = principal + transfer_interest\n",
        "    current_total_cost = principal + current_interest\n",
        "\n",
        "    savings = current_total_cost - transfer_total_cost\n",
        "\n",
        "    return transfer_total_cost, current_total_cost, savings\n",
        "\n",
        "def plot_comparison(transfer_total_cost, current_total_cost):\n",
        "    labels = ['Balance Transfer', 'Current Credit Card']\n",
        "    costs = [transfer_total_cost, current_total_cost]\n",
        "\n",
        "    plt.figure(figsize=(8, 5))\n",
        "    plt.bar(labels, costs, color=['blue', 'red'])\n",
        "    plt.xlabel('Options')\n",
        "    plt.ylabel('Total Cost ($)')\n",
        "    plt.title('Credit Card Cost Comparison')\n",
        "    plt.grid(False)\n",
        "    plt.show()\n",
        "\n",
        "def main():\n",
        "    principal = float(input(\"Enter the principal amount: \"))\n",
        "    transfer_rate = float(input(\"Enter the balance transfer interest rate: \"))\n",
        "    current_rate = float(input(\"Enter the current credit card interest rate: \"))\n",
        "    transfer_duration_months = int(input(\"Enter the duration for the new credit card (in months): \"))\n",
        "\n",
        "    transfer_total_cost, current_total_cost, savings = calculate_balance_transfer(principal, transfer_rate, current_rate, transfer_duration_months)\n",
        "\n",
        "    print(f\"Total cost with balance transfer: ${transfer_total_cost:.2f}\")\n",
        "    print(f\"Total cost with current credit card: ${current_total_cost:.2f}\")\n",
        "\n",
        "    if savings > 0:\n",
        "        print(f\"Balance transfer will save you: ${savings:.2f}\")\n",
        "    else:\n",
        "        print(f\"Balance transfer will not save you money. You will lose: ${abs(savings):.2f}\")\n",
        "\n",
        "    plot_comparison(transfer_total_cost, current_total_cost)\n",
        "\n",
        "if __name__ == \"__main__\":\n",
        "    main()\n"
      ],
      "metadata": {
        "id": "2WRIB9518CSq"
      },
      "execution_count": null,
      "outputs": []
    }
  ]
}