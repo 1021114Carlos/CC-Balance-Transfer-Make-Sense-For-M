{
  "nbformat": 4,
  "nbformat_minor": 0,
  "metadata": {
    "colab": {
      "private_outputs": true,
      "provenance": [],
      "authorship_tag": "ABX9TyPdkAQ6c0mWWajjaeTiwMUc",
      "include_colab_link": true
    },
    "kernelspec": {
      "name": "python3",
      "display_name": "Python 3"
    },
    "language_info": {
      "name": "python"
    }
  },
  "cells": [
    {
      "cell_type": "markdown",
      "metadata": {
        "id": "view-in-github",
        "colab_type": "text"
      },
      "source": [
        "<a href=\"https://colab.research.google.com/github/1021114Carlos/CC-Balance-Transfer-Make-Sense-For-Me/blob/analytical-backroom/CC_Balance_Transfer.ipynb\" target=\"_parent\"><img src=\"https://colab.research.google.com/assets/colab-badge.svg\" alt=\"Open In Colab\"/></a>"
      ]
    },
    {
      "cell_type": "markdown",
      "source": [
        "_Does Credit Card Balance Transfer Make Sense For Me_"
      ],
      "metadata": {
        "id": "JAAtSYglT3lC"
      }
    },
    {
      "cell_type": "code",
      "execution_count": null,
      "metadata": {
        "id": "MAYRLpkfTx4z"
      },
      "outputs": [],
      "source": [
        "# Current principal and interest rate\n",
        "makeSense = True\n",
        "totalBalance = float(input())\n",
        "interestRate = float(input())\n",
        "interestRatePercentage = interestRate/365\n",
        "print(interestRatePercentage)\n",
        "\n",
        "payment = totalBalance*interestRatePercentage"
      ]
    },
    {
      "cell_type": "code",
      "source": [
        "a = 365/12\n",
        "a"
      ],
      "metadata": {
        "id": "RGyfAnaBV4Cc"
      },
      "execution_count": null,
      "outputs": []
    },
    {
      "cell_type": "code",
      "source": [],
      "metadata": {
        "id": "m69v2l6jdbyq"
      },
      "execution_count": null,
      "outputs": []
    }
  ]
}