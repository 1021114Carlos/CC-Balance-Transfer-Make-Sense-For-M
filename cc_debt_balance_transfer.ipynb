{
  "nbformat": 4,
  "nbformat_minor": 0,
  "metadata": {
    "colab": {
      "provenance": [],
      "include_colab_link": true
    },
    "kernelspec": {
      "name": "python3",
      "display_name": "Python 3"
    },
    "language_info": {
      "name": "python"
    }
  },
  "cells": [
    {
      "cell_type": "markdown",
      "metadata": {
        "id": "view-in-github",
        "colab_type": "text"
      },
      "source": [
        "<a href=\"https://colab.research.google.com/github/1021114Carlos/pay-balance_off-or-do-balance-transfer/blob/analytical-backroom/cc_debt_balance_transfer.ipynb\" target=\"_parent\"><img src=\"https://colab.research.google.com/assets/colab-badge.svg\" alt=\"Open In Colab\"/></a>"
      ]
    },
    {
      "cell_type": "markdown",
      "source": [
        "#Total interest paid"
      ],
      "metadata": {
        "id": "QtNV7Zq69PJI"
      }
    },
    {
      "cell_type": "code",
      "execution_count": null,
      "metadata": {
        "colab": {
          "base_uri": "https://localhost:8080/"
        },
        "id": "E7rZpfn6z_D4",
        "outputId": "a248b4e0-4844-430d-d0c9-a66187c1e22b"
      },
      "outputs": [
        {
          "output_type": "stream",
          "name": "stdout",
          "text": [
            "5000\n",
            "13.24\n",
            "500\n",
            "324.18158632535005\n"
          ]
        }
      ],
      "source": [
        "debtDuration = True\n",
        "creditCardDebt = float(input())\n",
        "totalInterestPaid = 0\n",
        "apr = float(input())\n",
        "annualPercentageRate = ((apr/100)/12)\n",
        "customerPayment = float(input())\n",
        "\n",
        "while debtDuration:\n",
        "  #customerPayment = float(input())\n",
        "  monthlyInterestPaid = creditCardDebt*annualPercentageRate\n",
        "  totalInterestPaid += monthlyInterestPaid\n",
        "  monthlyDebt = ((creditCardDebt + monthlyInterestPaid) - customerPayment)\n",
        "  newCCBalance = monthlyDebt\n",
        "  creditCardDebt = newCCBalance\n",
        "\n",
        "  if creditCardDebt < customerPayment:\n",
        "    customerPayment = creditCardDebt\n",
        "    creditCardDebt -= customerPayment\n",
        "\n",
        "  if creditCardDebt == 0:\n",
        "    debtDuration = False\n",
        "print(totalInterestPaid)"
      ]
    },
    {
      "cell_type": "markdown",
      "source": [
        "# Cost of credit card balance transfer\n",
        "> assuming 0% interest offer\n",
        "\n",
        "> assuming no other fees and rates"
      ],
      "metadata": {
        "id": "SIW2abbo9byu"
      }
    },
    {
      "cell_type": "markdown",
      "source": [
        "##Credit card alance transfer cost"
      ],
      "metadata": {
        "id": "WG4VbZjK-o0D"
      }
    },
    {
      "cell_type": "code",
      "source": [
        "creditCardDebt = float(input())\n",
        "interestTrasferFee = float(input())\n",
        "balanceFee = interestTrasferFee/100\n",
        "totalCostFee = creditCardDebt*balanceFee\n",
        "print(totalCostFee)"
      ],
      "metadata": {
        "colab": {
          "base_uri": "https://localhost:8080/"
        },
        "id": "t4htdY9U9KoN",
        "outputId": "a36f9b77-fcbc-4b26-c449-a60be2a3e6f6"
      },
      "execution_count": null,
      "outputs": [
        {
          "output_type": "stream",
          "name": "stdout",
          "text": [
            "5000\n",
            "5\n",
            "250.0\n"
          ]
        }
      ]
    },
    {
      "cell_type": "markdown",
      "source": [
        "_Does credit card balance transfer make sense for me_"
      ],
      "metadata": {
        "id": "MUYdqhsaSqCy"
      }
    },
    {
      "cell_type": "code",
      "source": [],
      "metadata": {
        "id": "kAZoFmRfSuB5"
      },
      "execution_count": null,
      "outputs": []
    }
  ]
}